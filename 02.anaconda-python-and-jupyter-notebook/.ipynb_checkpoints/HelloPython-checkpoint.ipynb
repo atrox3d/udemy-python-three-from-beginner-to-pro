{
 "cells": [
  {
   "cell_type": "markdown",
   "id": "73e99807",
   "metadata": {},
   "source": [
    "my first python program"
   ]
  },
  {
   "cell_type": "markdown",
   "id": "2b479b83",
   "metadata": {},
   "source": [
    "# My first python program"
   ]
  },
  {
   "cell_type": "markdown",
   "id": "a5faa96e",
   "metadata": {},
   "source": [
    "## My first python program"
   ]
  },
  {
   "cell_type": "markdown",
   "id": "23b5e58c",
   "metadata": {},
   "source": [
    "### My first python program"
   ]
  },
  {
   "cell_type": "code",
   "execution_count": 1,
   "id": "c2a5ecff",
   "metadata": {},
   "outputs": [
    {
     "name": "stdout",
     "output_type": "stream",
     "text": [
      "Hello, Python!\n"
     ]
    }
   ],
   "source": [
    "# this is a comment\n",
    "print('Hello, Python!') # this is also a comment"
   ]
  },
  {
   "cell_type": "code",
   "execution_count": 2,
   "id": "6e9e54bd",
   "metadata": {},
   "outputs": [
    {
     "name": "stdout",
     "output_type": "stream",
     "text": [
      "Hello, again\n"
     ]
    }
   ],
   "source": [
    "'''tihis is line 1 comment\n",
    "this is line 2 comment'''\n",
    "print('Hello, again')"
   ]
  },
  {
   "cell_type": "code",
   "execution_count": null,
   "id": "7f1839ad",
   "metadata": {},
   "outputs": [],
   "source": []
  }
 ],
 "metadata": {
  "kernelspec": {
   "display_name": "Python 3 (ipykernel)",
   "language": "python",
   "name": "python3"
  },
  "language_info": {
   "codemirror_mode": {
    "name": "ipython",
    "version": 3
   },
   "file_extension": ".py",
   "mimetype": "text/x-python",
   "name": "python",
   "nbconvert_exporter": "python",
   "pygments_lexer": "ipython3",
   "version": "3.9.13"
  }
 },
 "nbformat": 4,
 "nbformat_minor": 5
}
