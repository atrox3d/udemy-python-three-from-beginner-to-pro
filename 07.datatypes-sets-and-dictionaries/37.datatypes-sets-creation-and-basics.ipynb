{
 "cells": [
  {
   "cell_type": "code",
   "execution_count": 98,
   "id": "575a063d",
   "metadata": {},
   "outputs": [
    {
     "data": {
      "text/plain": [
       "({'green', 'red', 'yellow'}, set)"
      ]
     },
     "execution_count": 98,
     "metadata": {},
     "output_type": "execute_result"
    }
   ],
   "source": [
    "x = set(('red', 'yellow', 'green'))\n",
    "x, type(x)"
   ]
  },
  {
   "cell_type": "code",
   "execution_count": 99,
   "id": "fa38e0d1",
   "metadata": {},
   "outputs": [
    {
     "data": {
      "text/plain": [
       "{'green', 'red', 'yellow'}"
      ]
     },
     "execution_count": 99,
     "metadata": {},
     "output_type": "execute_result"
    }
   ],
   "source": [
    "{'red', 'green', 'yellow'}\n"
   ]
  },
  {
   "cell_type": "code",
   "execution_count": 100,
   "id": "6bc924f4",
   "metadata": {},
   "outputs": [
    {
     "data": {
      "text/plain": [
       "{1, 2, 3, 4, 5, 33, 44, 55}"
      ]
     },
     "execution_count": 100,
     "metadata": {},
     "output_type": "execute_result"
    }
   ],
   "source": [
    "nodups = {1,1,1,1,2,2,2,2,3,3,3,3,33,4,4,4,4,44,5,5,5,5,55,5,}\n",
    "nodups"
   ]
  },
  {
   "cell_type": "code",
   "execution_count": 101,
   "id": "62415235",
   "metadata": {},
   "outputs": [
    {
     "data": {
      "text/plain": [
       "{'hello'}"
      ]
     },
     "execution_count": 101,
     "metadata": {},
     "output_type": "execute_result"
    }
   ],
   "source": [
    "unique_strings = {'hello', 'hello', 'hello', 'hello', 'hello', 'hello', 'hello', 'hello', 'hello', 'hello', 'hello', 'hello', 'hello', 'hello', 'hello', 'hello', 'hello', 'hello', 'hello', 'hello', 'hello', 'hello', 'hello', 'hello', 'hello', 'hello', 'hello', 'hello', 'hello', 'hello', 'hello', 'hello', 'hello', 'hello', 'hello', 'hello', 'hello'}\n",
    "unique_strings"
   ]
  },
  {
   "cell_type": "code",
   "execution_count": 102,
   "id": "6b6460cc",
   "metadata": {},
   "outputs": [
    {
     "data": {
      "text/plain": [
       "True"
      ]
     },
     "execution_count": 102,
     "metadata": {},
     "output_type": "execute_result"
    }
   ],
   "source": [
    "1 in nodups\n"
   ]
  },
  {
   "cell_type": "code",
   "execution_count": 103,
   "id": "23c7e792",
   "metadata": {},
   "outputs": [
    {
     "data": {
      "text/plain": [
       "8"
      ]
     },
     "execution_count": 103,
     "metadata": {},
     "output_type": "execute_result"
    }
   ],
   "source": [
    "len(nodups)"
   ]
  },
  {
   "cell_type": "code",
   "execution_count": 104,
   "id": "93f101c6",
   "metadata": {},
   "outputs": [
    {
     "name": "stdout",
     "output_type": "stream",
     "text": [
      "1\n",
      "2\n",
      "3\n",
      "4\n",
      "33\n",
      "5\n",
      "44\n",
      "55\n"
     ]
    }
   ],
   "source": [
    "for each in nodups:\n",
    "    print(each)"
   ]
  },
  {
   "cell_type": "code",
   "execution_count": 105,
   "id": "4497155f",
   "metadata": {},
   "outputs": [
    {
     "data": {
      "text/plain": [
       "{1, 2, 3, 33, 4, 44, 5, 55, 'hey'}"
      ]
     },
     "execution_count": 105,
     "metadata": {},
     "output_type": "execute_result"
    }
   ],
   "source": [
    "nodups.add('hey')\n",
    "nodups"
   ]
  },
  {
   "cell_type": "code",
   "execution_count": 106,
   "id": "92ec33a6",
   "metadata": {},
   "outputs": [
    {
     "data": {
      "text/plain": [
       "{1, 10, 2, 3, 33, 4, 44, 5, 55, 'hey'}"
      ]
     },
     "execution_count": 106,
     "metadata": {},
     "output_type": "execute_result"
    }
   ],
   "source": [
    "nodups.update((10, 10))\n",
    "nodups"
   ]
  },
  {
   "cell_type": "code",
   "execution_count": 107,
   "id": "7ef21360",
   "metadata": {},
   "outputs": [
    {
     "data": {
      "text/plain": [
       "{1, 2, 3, 4, 5, 10, 33, 44, 55}"
      ]
     },
     "execution_count": 107,
     "metadata": {},
     "output_type": "execute_result"
    }
   ],
   "source": [
    "nodups.remove('hey')\n",
    "nodups"
   ]
  },
  {
   "cell_type": "code",
   "execution_count": 109,
   "id": "ce9c8435",
   "metadata": {},
   "outputs": [
    {
     "data": {
      "text/plain": [
       "{1, 10, 2, 3, 33, 4, 44, 5, 55, 'green', 'hello', 'red', 'yellow'}"
      ]
     },
     "execution_count": 109,
     "metadata": {},
     "output_type": "execute_result"
    }
   ],
   "source": [
    "union = x.union(nodups, unique_strings)\n",
    "union"
   ]
  },
  {
   "cell_type": "code",
   "execution_count": 110,
   "id": "d0f9937a",
   "metadata": {},
   "outputs": [
    {
     "data": {
      "text/plain": [
       "set()"
      ]
     },
     "execution_count": 110,
     "metadata": {},
     "output_type": "execute_result"
    }
   ],
   "source": [
    "intersection = x.intersection(nodups, unique_strings)\n",
    "intersection"
   ]
  }
 ],
 "metadata": {
  "kernelspec": {
   "display_name": "Python 3 (ipykernel)",
   "language": "python",
   "name": "python3"
  },
  "language_info": {
   "codemirror_mode": {
    "name": "ipython",
    "version": 3
   },
   "file_extension": ".py",
   "mimetype": "text/x-python",
   "name": "python",
   "nbconvert_exporter": "python",
   "pygments_lexer": "ipython3",
   "version": "3.9.13"
  }
 },
 "nbformat": 4,
 "nbformat_minor": 5
}
